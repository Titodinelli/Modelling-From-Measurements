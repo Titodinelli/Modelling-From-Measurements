{
 "cells": [
  {
   "cell_type": "markdown",
   "metadata": {},
   "source": [
    "# HOMEWORK PART 2-b\n",
    "\n",
    "---\n",
    "\n",
    "I've included in your emails MATLAB/Python code for solving (i) A reaction-diffusion system of equations,and (ii) The Kuramoto-Sivashinsky (KS) equation.\n",
    "\n",
    "3. For the reaction-diffusion system, first project to a low-dimensional subspace via the SVD and see how forecasting works in the low-rank variables using a NN."
   ]
  }
 ],
 "metadata": {
  "kernelspec": {
   "display_name": "Python 3.7.13 ('sindy')",
   "language": "python",
   "name": "python3"
  },
  "language_info": {
   "codemirror_mode": {
    "name": "ipython",
    "version": 3
   },
   "file_extension": ".py",
   "mimetype": "text/x-python",
   "name": "python",
   "nbconvert_exporter": "python",
   "pygments_lexer": "ipython3",
   "version": "3.7.13"
  },
  "orig_nbformat": 4,
  "vscode": {
   "interpreter": {
    "hash": "5c08aa905638e5cdcf394db177473de8ab67b60bdcf920a73c26933b5709c597"
   }
  }
 },
 "nbformat": 4,
 "nbformat_minor": 2
}
